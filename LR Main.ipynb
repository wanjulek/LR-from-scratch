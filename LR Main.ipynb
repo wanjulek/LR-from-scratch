{
 "cells": [
  {
   "cell_type": "code",
   "execution_count": 2,
   "metadata": {},
   "outputs": [],
   "source": [
    "# Importing all libraries\n",
    "import pandas as pd\n",
    "import numpy as np\n",
    "import math\n",
    "from tqdm import tqdm\n",
    "from sklearn.model_selection import train_test_split\n",
    "from dataclasses import dataclass\n",
    "import matplotlib.pyplot as plt"
   ]
  },
  {
   "attachments": {},
   "cell_type": "markdown",
   "metadata": {},
   "source": [
    "Creating the Class"
   ]
  },
  {
   "cell_type": "code",
   "execution_count": 12,
   "metadata": {},
   "outputs": [],
   "source": [
    "class LinearRegression:\n",
    "\n",
    "    def __init__(self, X, y, test_size = 0.3, random_state = 0):\n",
    "        self.X = X # original X matrix\n",
    "        self.y = y # original y vector\n",
    "        # Call a split function to save the splits as attributes\n",
    "        # Now the class will already contain the splits as attributes\n",
    "        self.splitdata(test_size, random_state)\n",
    "\n",
    "    def splitdata(self, test_size, random_state):\n",
    "        X_train, X_test, y_train, y_test = train_test_split(self.X, self.y, test_size = test_size, random_state=random_state, shuffle=True)\n",
    "        self.X_train = X_train # X train split\n",
    "        self.X_test = X_test # X test split\n",
    "        self.y_train = y_train # y train split\n",
    "        self.y_test = y_test # y test split\n",
    "        print(\"Splits Created and stored as attributes\")\n",
    "        return\n",
    "    \n",
    "    def normalizetrain(self):\n",
    "        mean = np.mean(self.X_train, axis=0)\n",
    "        std = np.std(self.X_train, axis = 0)\n",
    "        self.X_train = (self.X_train-mean)/std # updated X_train\n",
    "        self.X_mean = mean # mean of X train\n",
    "        self.X_std = std # std of X train\n",
    "        self.X_train = self.add_X0(self.X_train)\n",
    "        return\n",
    "    \n",
    "    def normalizetest(self):\n",
    "        self.X_test = (self.X_test - self.X_mean)/self.X_std # updated X_test\n",
    "        self.X_test = self.add_X0(self.X_test)\n",
    "        return\n",
    "    \n",
    "    def rank(self, X):\n",
    "        rank = np.linalg.matrix_rank(X)\n",
    "        return rank\n",
    "    \n",
    "    # X.T.dot(X) is invertible if X is full rank and n>d\n",
    "    \n",
    "    def checkfullrank(self, X):\n",
    "        rank = self.rank(X)\n",
    "        if rank == min(X.shape):\n",
    "            self.fullrank = True\n",
    "        else:\n",
    "            self.fullrank = False\n",
    "        return\n",
    "    \n",
    "    def checklowrank(self, X):\n",
    "        if X.shape[0] > X.shape[1]:\n",
    "            self.lowrank = False\n",
    "        else:\n",
    "            self.lowrank = True\n",
    "        return\n",
    "    \n",
    "    def closedform(self):\n",
    "        X = self.X_train\n",
    "        y = self.y_train\n",
    "        print(\"Solving for theta using Closed form Equation\")\n",
    "        self.w = np.linalg.inv(X.T.dot(X)).dot(X.T).dot(y)\n",
    "        return self.w\n",
    "\n",
    "    def add_X0(self, X):\n",
    "        return np.column_stack([np.ones(X.shape[0]), X])\n",
    "    \n",
    "    def fit(self):\n",
    "        self.normalizetrain()\n",
    "        self.normalizetest()\n",
    "\n",
    "        # Closed form solution\n",
    "        self.checkfullrank(self.X_train)\n",
    "        self.checklowrank(self.X_train)\n",
    "\n",
    "        if self.fullrank and not self.lowrank and self.X_train.shape[0] <= 10000:\n",
    "            self.closedform()\n",
    "            print(self.w)\n",
    "        return\n",
    "    \n",
    "\n",
    "\n",
    "\n",
    "# Add X0 add\n",
    "# Use X0 add in fit function"
   ]
  },
  {
   "attachments": {},
   "cell_type": "markdown",
   "metadata": {},
   "source": [
    "#### Loading Dataset"
   ]
  },
  {
   "cell_type": "code",
   "execution_count": 7,
   "metadata": {},
   "outputs": [
    {
     "name": "stdout",
     "output_type": "stream",
     "text": [
      "(506, 14)\n"
     ]
    }
   ],
   "source": [
    "# Load CSV file into a numpy array\n",
    "data = np.genfromtxt('housing.csv', delimiter=',')\n",
    "\n",
    "# Display the shape of the array\n",
    "print(data.shape)\n",
    "\n",
    "X = data[:,:-1]\n",
    "y = data[:,-1]"
   ]
  },
  {
   "attachments": {},
   "cell_type": "markdown",
   "metadata": {},
   "source": [
    "#### Testing"
   ]
  },
  {
   "cell_type": "code",
   "execution_count": 13,
   "metadata": {},
   "outputs": [
    {
     "name": "stdout",
     "output_type": "stream",
     "text": [
      "Splits Created and stored as attributes\n",
      "Solving for theta using Closed form Equation\n",
      "[22.74548023 -1.01189299  1.05028731  0.07922238  0.61896311 -1.87367112\n",
      "  2.70526765 -0.27955798 -3.09763515  2.09690865 -1.88608488 -2.26109811\n",
      "  0.58264435 -3.44050512]\n"
     ]
    }
   ],
   "source": [
    "reg = LinearRegression(X, y)\n",
    "reg.fit()"
   ]
  }
 ],
 "metadata": {
  "kernelspec": {
   "display_name": "base",
   "language": "python",
   "name": "python3"
  },
  "language_info": {
   "codemirror_mode": {
    "name": "ipython",
    "version": 3
   },
   "file_extension": ".py",
   "mimetype": "text/x-python",
   "name": "python",
   "nbconvert_exporter": "python",
   "pygments_lexer": "ipython3",
   "version": "3.9.12"
  },
  "orig_nbformat": 4,
  "vscode": {
   "interpreter": {
    "hash": "b647a98f5a771bef6128177185896650a5eaba3992f263c2977efddc3ac935a8"
   }
  }
 },
 "nbformat": 4,
 "nbformat_minor": 2
}
