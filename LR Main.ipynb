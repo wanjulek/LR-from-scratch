{
 "cells": [
  {
   "cell_type": "code",
   "execution_count": 2,
   "metadata": {},
   "outputs": [],
   "source": [
    "# Importing all libraries\n",
    "import pandas as pd\n",
    "import numpy as np\n",
    "import math\n",
    "from tqdm import tqdm\n",
    "from sklearn.model_selection import train_test_split\n",
    "from dataclasses import dataclass\n",
    "import matplotlib.pyplot as plt"
   ]
  },
  {
   "attachments": {},
   "cell_type": "markdown",
   "metadata": {},
   "source": [
    "Creating the Class"
   ]
  },
  {
   "cell_type": "code",
   "execution_count": 3,
   "metadata": {},
   "outputs": [],
   "source": [
    "class LinearRegression:\n",
    "\n",
    "    def __init__(self, X, y, test_size = 0.3, random_state = 0):\n",
    "        self.X = X # original X matrix\n",
    "        self.y = y # original y vector\n",
    "        # Call a split function to save the splits as attributes\n",
    "        # Now the class will already contain the splits as attributes\n",
    "        self.splitdata(test_size, random_state)\n",
    "\n",
    "    def splitdata(self, test_size, random_state):\n",
    "        X_train, X_test, y_train, y_test = train_test_split(self.X, self.y, test_size = test_size, random_state=random_state, shuffle=True)\n",
    "        self.X_train = X_train # X train split\n",
    "        self.X_test = X_test # X test split\n",
    "        self.y_train = y_train # y train split\n",
    "        self.y_test = y_test # y test split\n",
    "        print(\"Splits Created and stored as attributes\")\n",
    "        return\n",
    "    \n",
    "    def normalizetrain(self):\n",
    "        mean = np.mean(self.X_train, axis=0)\n",
    "        std = np.std(self.X_train, axis = 0)\n",
    "        self.X_train = (self.X_train-mean)/std # updated X_train\n",
    "        self.X_mean = mean # mean of X train\n",
    "        self.X_std = std # std of X train\n",
    "        return\n",
    "    \n",
    "    def normalizetest(self):\n",
    "        self.X_test = (self.X_test - self.X_mean)/self.X_std # updated X_test\n",
    "        return\n",
    "    \n",
    "    def rank(self, X):\n",
    "        rank = np.linalg.matrix_rank(X)\n",
    "        return rank\n",
    "    \n",
    "    def checkfullrank(self, X):\n",
    "        rank = self.rank(X)\n",
    "        if rank == min(X.shape):\n",
    "            self.fullrank = True\n",
    "        else:\n",
    "            self.fullrank = False\n",
    "    \n",
    "    def checklowrank(self):\n",
    "\n",
    "    \n",
    "\n",
    "\n",
    "\n",
    "# Add X0 add\n",
    "# Use X0 add in fit function"
   ]
  },
  {
   "cell_type": "code",
   "execution_count": 4,
   "metadata": {},
   "outputs": [
    {
     "name": "stdout",
     "output_type": "stream",
     "text": [
      "Splits Created and stored as attributes\n"
     ]
    }
   ],
   "source": []
  }
 ],
 "metadata": {
  "kernelspec": {
   "display_name": "base",
   "language": "python",
   "name": "python3"
  },
  "language_info": {
   "codemirror_mode": {
    "name": "ipython",
    "version": 3
   },
   "file_extension": ".py",
   "mimetype": "text/x-python",
   "name": "python",
   "nbconvert_exporter": "python",
   "pygments_lexer": "ipython3",
   "version": "3.9.12"
  },
  "orig_nbformat": 4,
  "vscode": {
   "interpreter": {
    "hash": "b647a98f5a771bef6128177185896650a5eaba3992f263c2977efddc3ac935a8"
   }
  }
 },
 "nbformat": 4,
 "nbformat_minor": 2
}
