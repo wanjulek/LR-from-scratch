{
 "cells": [
  {
   "cell_type": "code",
   "execution_count": 2,
   "metadata": {},
   "outputs": [],
   "source": [
    "# Importing all libraries\n",
    "import pandas as pd\n",
    "import numpy as np\n",
    "import math\n",
    "from tqdm import tqdm\n",
    "from sklearn.model_selection import train_test_split\n",
    "from dataclasses import dataclass\n",
    "import matplotlib.pyplot as plt"
   ]
  },
  {
   "attachments": {},
   "cell_type": "markdown",
   "metadata": {},
   "source": [
    "Creating the Class"
   ]
  },
  {
   "cell_type": "code",
   "execution_count": 27,
   "metadata": {},
   "outputs": [],
   "source": [
    "class LinearRegression:\n",
    "\n",
    "    def __init__(self, X, y, test_size = 0.3, random_state = 0, learningrate = 0.001, tolerance = 0.005, maxiterations = 5000, gd = False):\n",
    "        self.X = X # original X matrix\n",
    "        self.y = y # original y vector\n",
    "        self.learningrate = learningrate\n",
    "        self.maxiterations = maxiterations\n",
    "        self.tolerance = tolerance\n",
    "        self.gd = gd\n",
    "        # Call a split function to save the splits as attributes\n",
    "        # Now the class will already contain the splits as attributes\n",
    "        self.splitdata(test_size, random_state)\n",
    "\n",
    "    def splitdata(self, test_size, random_state):\n",
    "        X_train, X_test, y_train, y_test = train_test_split(self.X, self.y, test_size = test_size, random_state=random_state, shuffle=True)\n",
    "        self.X_train = X_train # X train split\n",
    "        self.X_test = X_test # X test split\n",
    "        self.y_train = y_train # y train split\n",
    "        self.y_test = y_test # y test split\n",
    "        print(\"Splits Created and stored as attributes\")\n",
    "        return\n",
    "    \n",
    "    def normalizetrain(self):\n",
    "        mean = np.mean(self.X_train, axis=0)\n",
    "        std = np.std(self.X_train, axis = 0)\n",
    "        self.X_train = (self.X_train-mean)/std # updated X_train\n",
    "        self.X_mean = mean # mean of X train\n",
    "        self.X_std = std # std of X train\n",
    "        self.X_train = self.add_X0(self.X_train)\n",
    "        return\n",
    "    \n",
    "    def normalizetest(self):\n",
    "        self.X_test = (self.X_test - self.X_mean)/self.X_std # updated X_test\n",
    "        self.X_test = self.add_X0(self.X_test)\n",
    "        return\n",
    "    \n",
    "    def rank(self, X):\n",
    "        rank = np.linalg.matrix_rank(X)\n",
    "        return rank\n",
    "    \n",
    "    # X.T.dot(X) is invertible if X is full rank and n>d\n",
    "    \n",
    "    def checkfullrank(self, X):\n",
    "        rank = self.rank(X)\n",
    "        if rank == min(X.shape):\n",
    "            self.fullrank = True\n",
    "        else:\n",
    "            self.fullrank = False\n",
    "        return\n",
    "    \n",
    "    def checklowrank(self, X):\n",
    "        if X.shape[0] > X.shape[1]:\n",
    "            self.lowrank = False\n",
    "        else:\n",
    "            self.lowrank = True\n",
    "        return\n",
    "    \n",
    "    def closedform(self):\n",
    "        X = self.X_train\n",
    "        y = self.y_train\n",
    "        print(\"Solving for theta using Closed form Equation\")\n",
    "        self.w = np.linalg.inv(X.T.dot(X)).dot(X.T).dot(y)\n",
    "        return self.w\n",
    "\n",
    "    def add_X0(self, X):\n",
    "        return np.column_stack([np.ones(X.shape[0]), X])\n",
    "    \n",
    "    def predict(self, X):\n",
    "        return X.dot(self.w)\n",
    "    \n",
    "    def costderivative(self, X, y):\n",
    "        y_hat = self.predict(X)\n",
    "        return X.T.dot((y_hat - y))\n",
    "    \n",
    "    def error(self):\n",
    "        y_hat = self.predict(self.X_train)\n",
    "        return ((y_hat - self.y_train)**2).sum()\n",
    "    \n",
    "    def gradientdescent(self):\n",
    "        self.w = np.zeros(self.X_train.shape[1])\n",
    "        errors = []\n",
    "        error_prev = np.Inf\n",
    "        for i in tqdm(range(self.maxiterations)):\n",
    "            self.w = self.w - self.learningrate*self.costderivative(self.X_train, self.y_train)\n",
    "            current_error = self.error()\n",
    "            errors.append(current_error)\n",
    "            if np.abs(error_prev - current_error) < self.tolerance:\n",
    "                print(\"Model Stopped Learning\")\n",
    "                break\n",
    "            error_prev = current_error\n",
    "        self.plot_rmse(errors)\n",
    "        return\n",
    "    \n",
    "    def plot_rmse(self, error_sequence):\n",
    "        \"\"\"\n",
    "        @X: error_sequence, vector of rmse\n",
    "        @does: Plots the error function\n",
    "        @return: plot\n",
    "        \"\"\"\n",
    "        # Data for plotting\n",
    "        s = np.array(error_sequence)\n",
    "        t = np.arange(s.size)\n",
    "\n",
    "        fig, ax = plt.subplots()\n",
    "        ax.plot(t, s)\n",
    "\n",
    "        #ax.set(xlabel='iterations', ylabel=self.error,\n",
    "                #title='{} trend'.format(self.error))\n",
    "        #ax.grid()\n",
    "\n",
    "        plt.legend(bbox_to_anchor=(1.05,1), loc=2, shadow=True)\n",
    "        plt.show()    \n",
    "\n",
    "\n",
    "    def fit(self):\n",
    "        self.normalizetrain()\n",
    "        self.normalizetest()\n",
    "\n",
    "        # Closed form solution\n",
    "        self.checkfullrank(self.X_train)\n",
    "        self.checklowrank(self.X_train)\n",
    "\n",
    "        if self.fullrank and not self.lowrank and self.X_train.shape[0] <= 10000 and not self.gd:\n",
    "            self.closedform()\n",
    "            print(self.w)\n",
    "        else:\n",
    "            self.gradientdescent()\n",
    "            print(self.w)\n",
    "        return\n",
    "    \n",
    "\n",
    "\n",
    "\n",
    "# Add X0 add\n",
    "# Use X0 add in fit function"
   ]
  },
  {
   "attachments": {},
   "cell_type": "markdown",
   "metadata": {},
   "source": [
    "#### Loading Dataset"
   ]
  },
  {
   "cell_type": "code",
   "execution_count": 7,
   "metadata": {},
   "outputs": [
    {
     "name": "stdout",
     "output_type": "stream",
     "text": [
      "(506, 14)\n"
     ]
    }
   ],
   "source": [
    "# Load CSV file into a numpy array\n",
    "data = np.genfromtxt('housing.csv', delimiter=',')\n",
    "\n",
    "# Display the shape of the array\n",
    "print(data.shape)\n",
    "\n",
    "X = data[:,:-1]\n",
    "y = data[:,-1]"
   ]
  },
  {
   "attachments": {},
   "cell_type": "markdown",
   "metadata": {},
   "source": [
    "#### Testing"
   ]
  },
  {
   "cell_type": "code",
   "execution_count": 28,
   "metadata": {},
   "outputs": [],
   "source": [
    "np.random.seed(42)\n",
    "X = np.random.rand(10,3)\n",
    "y = np.random.rand(10,1)"
   ]
  },
  {
   "cell_type": "code",
   "execution_count": 29,
   "metadata": {},
   "outputs": [
    {
     "name": "stdout",
     "output_type": "stream",
     "text": [
      "Splits Created and stored as attributes\n"
     ]
    },
    {
     "name": "stderr",
     "output_type": "stream",
     "text": [
      "  0%|          | 0/5000 [00:00<?, ?it/s]\n"
     ]
    },
    {
     "ename": "ValueError",
     "evalue": "operands could not be broadcast together with shapes (4,) (4,7) ",
     "output_type": "error",
     "traceback": [
      "\u001b[1;31m---------------------------------------------------------------------------\u001b[0m",
      "\u001b[1;31mValueError\u001b[0m                                Traceback (most recent call last)",
      "\u001b[1;32mc:\\Users\\kshit\\Desktop\\LR Github\\LR-from-scratch\\LR Main.ipynb Cell 8\u001b[0m in \u001b[0;36m<cell line: 2>\u001b[1;34m()\u001b[0m\n\u001b[0;32m      <a href='vscode-notebook-cell:/c%3A/Users/kshit/Desktop/LR%20Github/LR-from-scratch/LR%20Main.ipynb#W4sZmlsZQ%3D%3D?line=0'>1</a>\u001b[0m reg \u001b[39m=\u001b[39m LinearRegression(X, y, gd \u001b[39m=\u001b[39m \u001b[39mTrue\u001b[39;00m)\n\u001b[1;32m----> <a href='vscode-notebook-cell:/c%3A/Users/kshit/Desktop/LR%20Github/LR-from-scratch/LR%20Main.ipynb#W4sZmlsZQ%3D%3D?line=1'>2</a>\u001b[0m reg\u001b[39m.\u001b[39;49mfit()\n",
      "\u001b[1;32mc:\\Users\\kshit\\Desktop\\LR Github\\LR-from-scratch\\LR Main.ipynb Cell 8\u001b[0m in \u001b[0;36mLinearRegression.fit\u001b[1;34m(self)\u001b[0m\n\u001b[0;32m    <a href='vscode-notebook-cell:/c%3A/Users/kshit/Desktop/LR%20Github/LR-from-scratch/LR%20Main.ipynb#W4sZmlsZQ%3D%3D?line=124'>125</a>\u001b[0m     \u001b[39mprint\u001b[39m(\u001b[39mself\u001b[39m\u001b[39m.\u001b[39mw)\n\u001b[0;32m    <a href='vscode-notebook-cell:/c%3A/Users/kshit/Desktop/LR%20Github/LR-from-scratch/LR%20Main.ipynb#W4sZmlsZQ%3D%3D?line=125'>126</a>\u001b[0m \u001b[39melse\u001b[39;00m:\n\u001b[1;32m--> <a href='vscode-notebook-cell:/c%3A/Users/kshit/Desktop/LR%20Github/LR-from-scratch/LR%20Main.ipynb#W4sZmlsZQ%3D%3D?line=126'>127</a>\u001b[0m     \u001b[39mself\u001b[39;49m\u001b[39m.\u001b[39;49mgradientdescent()\n\u001b[0;32m    <a href='vscode-notebook-cell:/c%3A/Users/kshit/Desktop/LR%20Github/LR-from-scratch/LR%20Main.ipynb#W4sZmlsZQ%3D%3D?line=127'>128</a>\u001b[0m     \u001b[39mprint\u001b[39m(\u001b[39mself\u001b[39m\u001b[39m.\u001b[39mw)\n\u001b[0;32m    <a href='vscode-notebook-cell:/c%3A/Users/kshit/Desktop/LR%20Github/LR-from-scratch/LR%20Main.ipynb#W4sZmlsZQ%3D%3D?line=128'>129</a>\u001b[0m \u001b[39mreturn\u001b[39;00m\n",
      "\u001b[1;32mc:\\Users\\kshit\\Desktop\\LR Github\\LR-from-scratch\\LR Main.ipynb Cell 8\u001b[0m in \u001b[0;36mLinearRegression.gradientdescent\u001b[1;34m(self)\u001b[0m\n\u001b[0;32m     <a href='vscode-notebook-cell:/c%3A/Users/kshit/Desktop/LR%20Github/LR-from-scratch/LR%20Main.ipynb#W4sZmlsZQ%3D%3D?line=81'>82</a>\u001b[0m error_prev \u001b[39m=\u001b[39m np\u001b[39m.\u001b[39mInf\n\u001b[0;32m     <a href='vscode-notebook-cell:/c%3A/Users/kshit/Desktop/LR%20Github/LR-from-scratch/LR%20Main.ipynb#W4sZmlsZQ%3D%3D?line=82'>83</a>\u001b[0m \u001b[39mfor\u001b[39;00m i \u001b[39min\u001b[39;00m tqdm(\u001b[39mrange\u001b[39m(\u001b[39mself\u001b[39m\u001b[39m.\u001b[39mmaxiterations)):\n\u001b[1;32m---> <a href='vscode-notebook-cell:/c%3A/Users/kshit/Desktop/LR%20Github/LR-from-scratch/LR%20Main.ipynb#W4sZmlsZQ%3D%3D?line=83'>84</a>\u001b[0m     \u001b[39mself\u001b[39m\u001b[39m.\u001b[39mw \u001b[39m=\u001b[39m \u001b[39mself\u001b[39;49m\u001b[39m.\u001b[39;49mw \u001b[39m-\u001b[39;49m \u001b[39mself\u001b[39;49m\u001b[39m.\u001b[39;49mlearningrate\u001b[39m*\u001b[39;49m\u001b[39mself\u001b[39;49m\u001b[39m.\u001b[39;49mcostderivative(\u001b[39mself\u001b[39;49m\u001b[39m.\u001b[39;49mX_train, \u001b[39mself\u001b[39;49m\u001b[39m.\u001b[39;49my_train)\n\u001b[0;32m     <a href='vscode-notebook-cell:/c%3A/Users/kshit/Desktop/LR%20Github/LR-from-scratch/LR%20Main.ipynb#W4sZmlsZQ%3D%3D?line=84'>85</a>\u001b[0m     current_error \u001b[39m=\u001b[39m \u001b[39mself\u001b[39m\u001b[39m.\u001b[39merror()\n\u001b[0;32m     <a href='vscode-notebook-cell:/c%3A/Users/kshit/Desktop/LR%20Github/LR-from-scratch/LR%20Main.ipynb#W4sZmlsZQ%3D%3D?line=85'>86</a>\u001b[0m     errors\u001b[39m.\u001b[39mappend(current_error)\n",
      "\u001b[1;31mValueError\u001b[0m: operands could not be broadcast together with shapes (4,) (4,7) "
     ]
    }
   ],
   "source": [
    "reg = LinearRegression(X, y, gd = True)\n",
    "reg.fit()"
   ]
  }
 ],
 "metadata": {
  "kernelspec": {
   "display_name": "base",
   "language": "python",
   "name": "python3"
  },
  "language_info": {
   "codemirror_mode": {
    "name": "ipython",
    "version": 3
   },
   "file_extension": ".py",
   "mimetype": "text/x-python",
   "name": "python",
   "nbconvert_exporter": "python",
   "pygments_lexer": "ipython3",
   "version": "3.9.12"
  },
  "orig_nbformat": 4,
  "vscode": {
   "interpreter": {
    "hash": "b647a98f5a771bef6128177185896650a5eaba3992f263c2977efddc3ac935a8"
   }
  }
 },
 "nbformat": 4,
 "nbformat_minor": 2
}
